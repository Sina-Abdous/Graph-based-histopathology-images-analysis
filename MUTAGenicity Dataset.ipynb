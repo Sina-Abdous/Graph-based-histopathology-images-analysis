{
 "cells": [
  {
   "cell_type": "code",
   "execution_count": null,
   "id": "b549904c",
   "metadata": {},
   "outputs": [],
   "source": [
    "# !pip install torch-scatter torch-sparse -f https://data.pyg.org/whl/torch-1.12.0+cpu.html\n",
    "# !pip install torch_geometric"
   ]
  },
  {
   "cell_type": "code",
   "execution_count": 1,
   "id": "e08e2c8a",
   "metadata": {},
   "outputs": [
    {
     "name": "stdout",
     "output_type": "stream",
     "text": [
      "performer-pytorch==1.1.4\r\n",
      "torch==1.12.1\r\n",
      "torch-geometric==2.1.0.post1\r\n",
      "torch-scatter==2.0.9\r\n",
      "torch-sparse==0.6.15\r\n",
      "torchaudio==0.12.1\r\n"
     ]
    }
   ],
   "source": [
    "!pip freeze | grep torch"
   ]
  },
  {
   "cell_type": "code",
   "execution_count": 1,
   "id": "00ea4b71",
   "metadata": {
    "scrolled": true
   },
   "outputs": [
    {
     "name": "stderr",
     "output_type": "stream",
     "text": [
      "/home/re/.local/lib/python3.10/site-packages/tqdm/auto.py:22: TqdmWarning: IProgress not found. Please update jupyter and ipywidgets. See https://ipywidgets.readthedocs.io/en/stable/user_install.html\n",
      "  from .autonotebook import tqdm as notebook_tqdm\n"
     ]
    }
   ],
   "source": [
    "from torch_geometric.datasets import TUDataset"
   ]
  },
  {
   "cell_type": "code",
   "execution_count": 3,
   "id": "c0d60645",
   "metadata": {},
   "outputs": [],
   "source": [
    "# import inspect\n",
    "\n",
    "# print(inspect.getsource(read_tu_data))"
   ]
  },
  {
   "cell_type": "code",
   "execution_count": 2,
   "id": "73c1f367",
   "metadata": {},
   "outputs": [],
   "source": [
    "import os\n",
    "import os.path as osp\n",
    "import shutil\n",
    "from typing import Callable, List, Optional\n",
    "\n",
    "import torch\n",
    "\n",
    "from torch_geometric.data import InMemoryDataset, download_url, extract_zip\n",
    "from torch_geometric.io import read_tu_data\n",
    "\n",
    "\n",
    "class TUDataset(InMemoryDataset):\n",
    "    r\"\"\"A variety of graph kernel benchmark datasets, *.e.g.* \"IMDB-BINARY\",\n",
    "    \"REDDIT-BINARY\" or \"PROTEINS\", collected from the `TU Dortmund University\n",
    "    <https://chrsmrrs.github.io/datasets>`_.\n",
    "    In addition, this dataset wrapper provides `cleaned dataset versions\n",
    "    <https://github.com/nd7141/graph_datasets>`_ as motivated by the\n",
    "    `\"Understanding Isomorphism Bias in Graph Data Sets\"\n",
    "    <https://arxiv.org/abs/1910.12091>`_ paper, containing only non-isomorphic\n",
    "    graphs.\n",
    "\n",
    "    .. note::\n",
    "        Some datasets may not come with any node labels.\n",
    "        You can then either make use of the argument :obj:`use_node_attr`\n",
    "        to load additional continuous node attributes (if present) or provide\n",
    "        synthetic node features using transforms such as\n",
    "        like :class:`torch_geometric.transforms.Constant` or\n",
    "        :class:`torch_geometric.transforms.OneHotDegree`.\n",
    "\n",
    "    Args:\n",
    "        root (string): Root directory where the dataset should be saved.\n",
    "        name (string): The `name\n",
    "            <https://chrsmrrs.github.io/datasets/docs/datasets/>`_ of the\n",
    "            dataset.\n",
    "        transform (callable, optional): A function/transform that takes in an\n",
    "            :obj:`torch_geometric.data.Data` object and returns a transformed\n",
    "            version. The data object will be transformed before every access.\n",
    "            (default: :obj:`None`)\n",
    "        pre_transform (callable, optional): A function/transform that takes in\n",
    "            an :obj:`torch_geometric.data.Data` object and returns a\n",
    "            transformed version. The data object will be transformed before\n",
    "            being saved to disk. (default: :obj:`None`)\n",
    "        pre_filter (callable, optional): A function that takes in an\n",
    "            :obj:`torch_geometric.data.Data` object and returns a boolean\n",
    "            value, indicating whether the data object should be included in the\n",
    "            final dataset. (default: :obj:`None`)\n",
    "        use_node_attr (bool, optional): If :obj:`True`, the dataset will\n",
    "            contain additional continuous node attributes (if present).\n",
    "            (default: :obj:`False`)\n",
    "        use_edge_attr (bool, optional): If :obj:`True`, the dataset will\n",
    "            contain additional continuous edge attributes (if present).\n",
    "            (default: :obj:`False`)\n",
    "        cleaned (bool, optional): If :obj:`True`, the dataset will\n",
    "            contain only non-isomorphic graphs. (default: :obj:`False`)\n",
    "\n",
    "    Stats:\n",
    "        .. list-table::\n",
    "            :widths: 20 10 10 10 10 10\n",
    "            :header-rows: 1\n",
    "\n",
    "            * - Name\n",
    "              - #graphs\n",
    "              - #nodes\n",
    "              - #edges\n",
    "              - #features\n",
    "              - #classes\n",
    "            * - MUTAG\n",
    "              - 188\n",
    "              - ~17.9\n",
    "              - ~39.6\n",
    "              - 7\n",
    "              - 2\n",
    "            * - ENZYMES\n",
    "              - 600\n",
    "              - ~32.6\n",
    "              - ~124.3\n",
    "              - 3\n",
    "              - 6\n",
    "            * - PROTEINS\n",
    "              - 1,113\n",
    "              - ~39.1\n",
    "              - ~145.6\n",
    "              - 3\n",
    "              - 2\n",
    "            * - COLLAB\n",
    "              - 5,000\n",
    "              - ~74.5\n",
    "              - ~4914.4\n",
    "              - 0\n",
    "              - 3\n",
    "            * - IMDB-BINARY\n",
    "              - 1,000\n",
    "              - ~19.8\n",
    "              - ~193.1\n",
    "              - 0\n",
    "              - 2\n",
    "            * - REDDIT-BINARY\n",
    "              - 2,000\n",
    "              - ~429.6\n",
    "              - ~995.5\n",
    "              - 0\n",
    "              - 2\n",
    "            * - ...\n",
    "              -\n",
    "              -\n",
    "              -\n",
    "              -\n",
    "              -\n",
    "    \"\"\"\n",
    "\n",
    "#     url = 'https://ls11-www.cs.tu-dortmund.de/people/morris/graphkerneldatasets'\n",
    "    url = 'https://ls11-www.cs.tu-dortmund.de/staff/morris/graphkerneldatasets'\n",
    "    cleaned_url = ('https://raw.githubusercontent.com/nd7141/'\n",
    "                   'graph_datasets/master/datasets')\n",
    "\n",
    "    def __init__(self, root: str, name: str,\n",
    "                 transform: Optional[Callable] = None,\n",
    "                 pre_transform: Optional[Callable] = None,\n",
    "                 pre_filter: Optional[Callable] = None,\n",
    "                 use_node_attr: bool = False, use_edge_attr: bool = False,\n",
    "                 cleaned: bool = False):\n",
    "        self.name = name\n",
    "        self.cleaned = cleaned\n",
    "        super().__init__(root, transform, pre_transform, pre_filter)\n",
    "\n",
    "        out = torch.load(self.processed_paths[0])\n",
    "        if not isinstance(out, tuple) or len(out) != 3:\n",
    "            raise RuntimeError(\n",
    "                \"The 'data' object was created by an older version of PyG. \"\n",
    "                \"If this error occurred while loading an already existing \"\n",
    "                \"dataset, remove the 'processed/' directory in the dataset's \"\n",
    "                \"root folder and try again.\")\n",
    "        self.data, self.slices, self.sizes = out\n",
    "\n",
    "        if self.data.x is not None and not use_node_attr:\n",
    "            num_node_attributes = self.num_node_attributes\n",
    "            self.data.x = self.data.x[:, num_node_attributes:]\n",
    "        if self.data.edge_attr is not None and not use_edge_attr:\n",
    "            num_edge_attributes = self.num_edge_attributes\n",
    "            self.data.edge_attr = self.data.edge_attr[:, num_edge_attributes:]\n",
    "\n",
    "    @property\n",
    "    def raw_dir(self) -> str:\n",
    "        name = f'raw{\"_cleaned\" if self.cleaned else \"\"}'\n",
    "        return osp.join(self.root, self.name, name)\n",
    "\n",
    "    @property\n",
    "    def processed_dir(self) -> str:\n",
    "        name = f'processed{\"_cleaned\" if self.cleaned else \"\"}'\n",
    "        return osp.join(self.root, self.name, name)\n",
    "\n",
    "    @property\n",
    "    def num_node_labels(self) -> int:\n",
    "        return self.sizes['num_node_labels']\n",
    "\n",
    "    @property\n",
    "    def num_node_attributes(self) -> int:\n",
    "        return self.sizes['num_node_attributes']\n",
    "\n",
    "    @property\n",
    "    def num_edge_labels(self) -> int:\n",
    "        return self.sizes['num_edge_labels']\n",
    "\n",
    "    @property\n",
    "    def num_edge_attributes(self) -> int:\n",
    "        return self.sizes['num_edge_attributes']\n",
    "\n",
    "    @property\n",
    "    def raw_file_names(self) -> List[str]:\n",
    "        names = ['A', 'graph_indicator']\n",
    "        return [f'{self.name}_{name}.txt' for name in names]\n",
    "\n",
    "    @property\n",
    "    def processed_file_names(self) -> str:\n",
    "        return 'data.pt'\n",
    "\n",
    "    def download(self):\n",
    "        url = self.cleaned_url if self.cleaned else self.url\n",
    "        folder = osp.join(self.root, self.name)\n",
    "#         path = download_url(f'{url}/{self.name}.zip', folder)\n",
    "        path = osp.join(folder, f\"{self.name}.zip\")\n",
    "        print(\"path:\", path)\n",
    "        extract_zip(path, folder)\n",
    "        os.unlink(path)\n",
    "        shutil.rmtree(self.raw_dir)\n",
    "        os.rename(osp.join(folder, self.name), self.raw_dir)\n",
    "#         pass\n",
    "\n",
    "    def process(self):\n",
    "        print(\"Raw dir:\", self.raw_dir)\n",
    "        self.data, self.slices, sizes = read_tu_data(self.raw_dir, self.name)\n",
    "\n",
    "        if self.pre_filter is not None or self.pre_transform is not None:\n",
    "            data_list = [self.get(idx) for idx in range(len(self))]\n",
    "\n",
    "            if self.pre_filter is not None:\n",
    "                data_list = [d for d in data_list if self.pre_filter(d)]\n",
    "\n",
    "            if self.pre_transform is not None:\n",
    "                data_list = [self.pre_transform(d) for d in data_list]\n",
    "\n",
    "            self.data, self.slices = self.collate(data_list)\n",
    "            self._data_list = None  # Reset cache.\n",
    "\n",
    "        torch.save((self.data, self.slices, sizes), self.processed_paths[0])\n",
    "\n",
    "    def __repr__(self) -> str:\n",
    "        return f'{self.name}({len(self)})'\n"
   ]
  },
  {
   "cell_type": "code",
   "execution_count": 4,
   "id": "1dae9597",
   "metadata": {
    "scrolled": true
   },
   "outputs": [],
   "source": [
    "dataset = TUDataset(\n",
    "    root=\"/home/re/Documents/Dr.RohbanLab/GNNExplainer/Graph-based-histopathology-images-analysis/tokengt/\",\n",
    "    name=\"Mutagenicity\",\n",
    "    use_node_attr=True,\n",
    "    use_edge_attr=True\n",
    ")"
   ]
  },
  {
   "cell_type": "code",
   "execution_count": 62,
   "id": "94f632f0",
   "metadata": {},
   "outputs": [
    {
     "data": {
      "text/plain": [
       "Data(edge_index=[2, 32], x=[16, 14], edge_attr=[32, 3], y=[1])"
      ]
     },
     "execution_count": 62,
     "metadata": {},
     "output_type": "execute_result"
    }
   ],
   "source": [
    "dataset[0]"
   ]
  },
  {
   "cell_type": "code",
   "execution_count": 49,
   "id": "217c1e5b",
   "metadata": {},
   "outputs": [
    {
     "data": {
      "text/plain": [
       "torch.int64"
      ]
     },
     "execution_count": 49,
     "metadata": {},
     "output_type": "execute_result"
    }
   ],
   "source": [
    "torch.tensor([0]).dtype"
   ]
  },
  {
   "cell_type": "code",
   "execution_count": 8,
   "id": "6f5e2d51",
   "metadata": {
    "scrolled": true
   },
   "outputs": [
    {
     "data": {
      "text/plain": [
       "['__call__',\n",
       " '__cat_dim__',\n",
       " '__class__',\n",
       " '__contains__',\n",
       " '__copy__',\n",
       " '__deepcopy__',\n",
       " '__delattr__',\n",
       " '__delitem__',\n",
       " '__dict__',\n",
       " '__dir__',\n",
       " '__doc__',\n",
       " '__eq__',\n",
       " '__format__',\n",
       " '__ge__',\n",
       " '__getattr__',\n",
       " '__getattribute__',\n",
       " '__getitem__',\n",
       " '__getstate__',\n",
       " '__gt__',\n",
       " '__hash__',\n",
       " '__inc__',\n",
       " '__init__',\n",
       " '__init_subclass__',\n",
       " '__iter__',\n",
       " '__le__',\n",
       " '__len__',\n",
       " '__lt__',\n",
       " '__module__',\n",
       " '__ne__',\n",
       " '__new__',\n",
       " '__reduce__',\n",
       " '__reduce_ex__',\n",
       " '__repr__',\n",
       " '__setattr__',\n",
       " '__setitem__',\n",
       " '__setstate__',\n",
       " '__sizeof__',\n",
       " '__str__',\n",
       " '__subclasshook__',\n",
       " '__weakref__',\n",
       " '_all_edges_to_layout',\n",
       " '_edge_attr_cls',\n",
       " '_edge_to_layout',\n",
       " '_get_edge_index',\n",
       " '_get_tensor',\n",
       " '_get_tensor_size',\n",
       " '_multi_get_tensor',\n",
       " '_put_edge_index',\n",
       " '_put_tensor',\n",
       " '_remove_tensor',\n",
       " '_store',\n",
       " '_tensor_attr_cls',\n",
       " '_to_type',\n",
       " 'apply',\n",
       " 'apply_',\n",
       " 'batch',\n",
       " 'clone',\n",
       " 'coalesce',\n",
       " 'contains_isolated_nodes',\n",
       " 'contains_self_loops',\n",
       " 'contiguous',\n",
       " 'coo',\n",
       " 'cpu',\n",
       " 'csc',\n",
       " 'csr',\n",
       " 'cuda',\n",
       " 'debug',\n",
       " 'detach',\n",
       " 'detach_',\n",
       " 'edge_attr',\n",
       " 'edge_index',\n",
       " 'edge_stores',\n",
       " 'edge_weight',\n",
       " 'from_dict',\n",
       " 'get_all_edge_attrs',\n",
       " 'get_all_tensor_attrs',\n",
       " 'get_edge_index',\n",
       " 'get_tensor',\n",
       " 'get_tensor_size',\n",
       " 'has_isolated_nodes',\n",
       " 'has_self_loops',\n",
       " 'is_coalesced',\n",
       " 'is_cuda',\n",
       " 'is_directed',\n",
       " 'is_edge_attr',\n",
       " 'is_node_attr',\n",
       " 'is_undirected',\n",
       " 'items',\n",
       " 'keys',\n",
       " 'multi_get_tensor',\n",
       " 'node_stores',\n",
       " 'num_edge_features',\n",
       " 'num_edges',\n",
       " 'num_faces',\n",
       " 'num_features',\n",
       " 'num_node_features',\n",
       " 'num_nodes',\n",
       " 'pin_memory',\n",
       " 'pos',\n",
       " 'put_edge_index',\n",
       " 'put_tensor',\n",
       " 'record_stream',\n",
       " 'remove_tensor',\n",
       " 'requires_grad_',\n",
       " 'share_memory_',\n",
       " 'size',\n",
       " 'stores',\n",
       " 'stores_as',\n",
       " 'subgraph',\n",
       " 'to',\n",
       " 'to_dict',\n",
       " 'to_heterogeneous',\n",
       " 'to_namedtuple',\n",
       " 'update_tensor',\n",
       " 'validate',\n",
       " 'view',\n",
       " 'x',\n",
       " 'y']"
      ]
     },
     "execution_count": 8,
     "metadata": {},
     "output_type": "execute_result"
    }
   ],
   "source": [
    "g = dataset[0]\n",
    "dir(dataset[0])"
   ]
  },
  {
   "cell_type": "code",
   "execution_count": 29,
   "id": "6f0c5ac0",
   "metadata": {},
   "outputs": [
    {
     "data": {
      "text/plain": [
       "Data(edge_index=[2, 32], x=[16, 14], edge_attr=[32, 3], y=[1])"
      ]
     },
     "execution_count": 29,
     "metadata": {},
     "output_type": "execute_result"
    }
   ],
   "source": [
    "g"
   ]
  },
  {
   "cell_type": "code",
   "execution_count": 35,
   "id": "321a5974",
   "metadata": {},
   "outputs": [],
   "source": [
    "import tokengt"
   ]
  },
  {
   "cell_type": "code",
   "execution_count": 47,
   "id": "888c820f",
   "metadata": {},
   "outputs": [],
   "source": [
    "from tokengt.large_scale_regression.tokengt.data.pyg_datasets.pyg_dataset import TokenGTPYGDataset"
   ]
  },
  {
   "cell_type": "code",
   "execution_count": 45,
   "id": "17da7bdc",
   "metadata": {},
   "outputs": [
    {
     "data": {
      "text/plain": [
       "3037"
      ]
     },
     "execution_count": 45,
     "metadata": {},
     "output_type": "execute_result"
    }
   ],
   "source": [
    "tmp = TokenGTPYGDataset(dataset)\n",
    "len(tmp.train_idx)"
   ]
  },
  {
   "cell_type": "code",
   "execution_count": 7,
   "id": "924d542c",
   "metadata": {},
   "outputs": [
    {
     "ename": "AttributeError",
     "evalue": "'TUDataset' object has no attribute 'train_idx'",
     "output_type": "error",
     "traceback": [
      "\u001b[0;31m---------------------------------------------------------------------------\u001b[0m",
      "\u001b[0;31mAttributeError\u001b[0m                            Traceback (most recent call last)",
      "Input \u001b[0;32mIn [7]\u001b[0m, in \u001b[0;36m<cell line: 1>\u001b[0;34m()\u001b[0m\n\u001b[0;32m----> 1\u001b[0m \u001b[43mdataset\u001b[49m\u001b[38;5;241;43m.\u001b[39;49m\u001b[43mtrain_idx\u001b[49m\n",
      "\u001b[0;31mAttributeError\u001b[0m: 'TUDataset' object has no attribute 'train_idx'"
     ]
    }
   ],
   "source": [
    "dataset.train_idx"
   ]
  }
 ],
 "metadata": {
  "kernelspec": {
   "display_name": "Python 3 (ipykernel)",
   "language": "python",
   "name": "python3"
  },
  "language_info": {
   "codemirror_mode": {
    "name": "ipython",
    "version": 3
   },
   "file_extension": ".py",
   "mimetype": "text/x-python",
   "name": "python",
   "nbconvert_exporter": "python",
   "pygments_lexer": "ipython3",
   "version": "3.10.4"
  }
 },
 "nbformat": 4,
 "nbformat_minor": 5
}
